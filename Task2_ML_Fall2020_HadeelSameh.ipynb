{
 "cells": [
  {
   "cell_type": "markdown",
   "metadata": {},
   "source": [
    "## Name: Hadeel Sameh Hassan\n",
    "## Sec:2       B.N:42"
   ]
  },
  {
   "cell_type": "markdown",
   "metadata": {},
   "source": [
    "# Class Implementation:"
   ]
  },
  {
   "cell_type": "code",
   "execution_count": 1,
   "metadata": {},
   "outputs": [],
   "source": [
    "class Multivariate_LeaniarRegression_Model:\n",
    "    def __init__(self,n_f):\n",
    "        #initialization\n",
    "        self.w = np.random.randn(1,n_f)\n",
    "        self.b = 0\n",
    "    def computeCost (self,y_pred,y):\n",
    "        m = y.shape[0]\n",
    "        cost = ((y_pred - y)**2)/(2*m)\n",
    "        return np.sum(cost)\n",
    "    def gradientDescent(self,X,y):\n",
    "        m = y.shape[0]\n",
    "        y_hat = self.predict(X)\n",
    "        dw = np.dot((y_hat - y).T , X)*(1/m)\n",
    "        db = np.sum(y_hat - y)*(1/m) \n",
    "        return dw, db\n",
    "    def fit(self,X,y,n_iteration,lr):\n",
    "        self.w_history = self.w\n",
    "        self.b_history = [self.b]\n",
    "        costArr = []\n",
    "        y_pred = self.predict(X)\n",
    "        initial_cost = self.computeCost(y_pred,y)\n",
    "        costArr.append(initial_cost)\n",
    "        for i in range(1,n_iteration+1):\n",
    "            dw,db = self.gradientDescent(X,y)\n",
    "            self.w = self.w - lr*dw\n",
    "            self.b = self.b - lr*db\n",
    "            y_pred = self.predict(X)\n",
    "            cost = self.computeCost(y_pred, y)\n",
    "            costArr.append(cost)\n",
    "            self.w_history = np.append(self.w_history, self.w, axis = 0)\n",
    "            self.b_history.append(self.b)  \n",
    "        print('Final cost value: ',cost)\n",
    "        plt.plot(costArr,'-o')\n",
    "        plt.xlabel('iterations')\n",
    "        plt.ylabel('cost')\n",
    "        plt.show()\n",
    "    def predict(self,X):\n",
    "        y_pred = np.dot(X, self.w.T)+self.b \n",
    "        return y_pred\n",
    "    def EvaluatePerformance(self,y_pred,y):\n",
    "        mse=np.mean((y - y_pred)**2)\n",
    "        return mse\n",
    "        "
   ]
  },
  {
   "cell_type": "markdown",
   "metadata": {},
   "source": [
    "# Testing model on univariate data :"
   ]
  },
  {
   "cell_type": "code",
   "execution_count": 2,
   "metadata": {},
   "outputs": [
    {
     "name": "stdout",
     "output_type": "stream",
     "text": [
      "(1, 77) (1, 77) (1, 20) (1, 20)\n"
     ]
    }
   ],
   "source": [
    "import numpy as np\n",
    "import matplotlib.pyplot as plt\n",
    "from sklearn.model_selection import train_test_split\n",
    "uurl=r\"C:\\Users\\Hadeel\\Desktop\\4th year\\4th year 1st term\\Machine_Learning\\Task_2\\univariateData.dat\"\n",
    "unidata =np.loadtxt(uurl,delimiter=',')\n",
    "X = unidata[:,0]\n",
    "y = unidata[:,1]\n",
    "X_train, X_test, Y_train, Y_test = train_test_split(X, y, test_size=0.20, random_state=5)\n",
    "X_train=np.array([X_train])\n",
    "X_test=np.array([X_test])\n",
    "Y_train=np.array([(Y_train)])\n",
    "Y_test=np.array([(Y_test)])\n",
    "print(Y_train.shape , X_train.shape, X_test.shape,Y_test.shape)"
   ]
  },
  {
   "cell_type": "code",
   "execution_count": 3,
   "metadata": {},
   "outputs": [
    {
     "name": "stdout",
     "output_type": "stream",
     "text": [
      "(77, 1) (77, 1) (20, 1) (20, 1)\n"
     ]
    }
   ],
   "source": [
    "X_train=X_train.T\n",
    "Y_train=Y_train.T\n",
    "X_test=X_test.T\n",
    "Y_test=Y_test.T\n",
    "print(Y_train.shape , X_train.shape, X_test.shape,Y_test.shape)"
   ]
  },
  {
   "cell_type": "code",
   "execution_count": 4,
   "metadata": {},
   "outputs": [],
   "source": [
    "model = Multivariate_LeaniarRegression_Model(X_train.shape[1])"
   ]
  },
  {
   "cell_type": "code",
   "execution_count": 5,
   "metadata": {},
   "outputs": [
    {
     "name": "stdout",
     "output_type": "stream",
     "text": [
      "Final cost value:  4.99464129446059\n"
     ]
    },
    {
     "data": {
      "image/png": "[encoded data removed]",
      "text/plain": [
       "<Figure size 432x288 with 1 Axes>"
      ]
     },
     "metadata": {
      "needs_background": "light"
     },
     "output_type": "display_data"
    }
   ],
   "source": [
    "model.fit(X_train,Y_train,1500, lr = 0.02)"
   ]
  },
  {
   "cell_type": "code",
   "execution_count": 6,
   "metadata": {},
   "outputs": [],
   "source": [
    "pred=[]\n",
    "for i in range(0,20):\n",
    "    pred.append(model.predict(X_test[i]))\n",
    "    \n",
    "    "
   ]
  },
  {
   "cell_type": "code",
   "execution_count": 7,
   "metadata": {},
   "outputs": [
    {
     "data": {
      "image/png": "[encoded data removed]",
      "text/plain": [
       "<Figure size 432x288 with 1 Axes>"
      ]
     },
     "metadata": {
      "needs_background": "light"
     },
     "output_type": "display_data"
    }
   ],
   "source": [
    "plt.plot(X_test, pred, \"r-\")\n",
    "plt.plot(X_test, Y_test, \"b.\")\n",
    "plt.show()"
   ]
  },
  {
   "cell_type": "code",
   "execution_count": 8,
   "metadata": {},
   "outputs": [
    {
     "name": "stdout",
     "output_type": "stream",
     "text": [
      "4.973897287386327\n"
     ]
    }
   ],
   "source": [
    "umse=model.EvaluatePerformance(pred,Y_test)\n",
    "print(umse)"
   ]
  },
  {
   "cell_type": "markdown",
   "metadata": {},
   "source": [
    "# Testing model on multivariate data :"
   ]
  },
  {
   "cell_type": "code",
   "execution_count": 9,
   "metadata": {},
   "outputs": [
    {
     "name": "stdout",
     "output_type": "stream",
     "text": [
      "(47, 2)\n"
     ]
    }
   ],
   "source": [
    "import numpy as np\n",
    "import matplotlib.pyplot as plt\n",
    "from sklearn.model_selection import train_test_split\n",
    "from sklearn.preprocessing import MinMaxScaler\n",
    "murl=r\"C:\\Users\\Hadeel\\Desktop\\4th year\\4th year 1st term\\Machine_Learning\\Task_2\\multivariateData.dat\"\n",
    "multidata =np.loadtxt(murl,delimiter=',')\n",
    "X = multidata[:,0:2]\n",
    "y = multidata[:,2]\n",
    "sc = MinMaxScaler()\n",
    "sc.fit(X)\n",
    "X = sc.transform(X)\n",
    "print(X.shape)"
   ]
  },
  {
   "cell_type": "code",
   "execution_count": 10,
   "metadata": {},
   "outputs": [
    {
     "name": "stdout",
     "output_type": "stream",
     "text": [
      "(47, 1)\n"
     ]
    }
   ],
   "source": [
    "y = multidata[:,2]\n",
    "y=np.array([y])\n",
    "y=y.T\n",
    "for i in range(0,10):\n",
    "    y[i]=float(y[i]/100)\n",
    "print(y.shape)"
   ]
  },
  {
   "cell_type": "code",
   "execution_count": 11,
   "metadata": {},
   "outputs": [
    {
     "name": "stdout",
     "output_type": "stream",
     "text": [
      "(37, 1) (37, 2) (10, 2) (10, 1)\n"
     ]
    }
   ],
   "source": [
    "X_train, X_test, Y_train, Y_test = train_test_split(X, y, test_size=0.20, random_state=5)\n",
    "print(Y_train.shape , X_train.shape, X_test.shape,Y_test.shape)"
   ]
  },
  {
   "cell_type": "code",
   "execution_count": 12,
   "metadata": {},
   "outputs": [],
   "source": [
    "mmodel = Multivariate_LeaniarRegression_Model(X_train.shape[1])"
   ]
  },
  {
   "cell_type": "code",
   "execution_count": 13,
   "metadata": {},
   "outputs": [
    {
     "name": "stdout",
     "output_type": "stream",
     "text": [
      "Final cost value:  9253718370.694595\n"
     ]
    },
    {
     "data": {
      "image/png": "[encoded data removed]",
      "text/plain": [
       "<Figure size 432x288 with 1 Axes>"
      ]
     },
     "metadata": {
      "needs_background": "light"
     },
     "output_type": "display_data"
    }
   ],
   "source": [
    "mmodel.fit(X_train,Y_train,8000, lr = 0.0059)"
   ]
  },
  {
   "cell_type": "code",
   "execution_count": 14,
   "metadata": {},
   "outputs": [],
   "source": [
    "pred=[]\n",
    "for i in range(0,10):\n",
    "    p=float(mmodel.predict(X_test[i]))\n",
    "    pred.append(p)\n"
   ]
  },
  {
   "cell_type": "code",
   "execution_count": 15,
   "metadata": {},
   "outputs": [
    {
     "data": {
      "image/png": "[encoded data removed]",
      "text/plain": [
       "<Figure size 432x288 with 1 Axes>"
      ]
     },
     "metadata": {
      "needs_background": "light"
     },
     "output_type": "display_data"
    }
   ],
   "source": [
    "plt.plot(X_test[:,0], pred, \"r-\")\n",
    "plt.plot(X_test[:,0], Y_test, \"b.\")\n",
    "plt.show()"
   ]
  },
  {
   "cell_type": "code",
   "execution_count": 16,
   "metadata": {},
   "outputs": [
    {
     "name": "stdout",
     "output_type": "stream",
     "text": [
      "45717442082.13669\n"
     ]
    }
   ],
   "source": [
    "mmse=model.EvaluatePerformance(pred,Y_test)\n",
    "print(mmse)"
   ]
  },
  {
   "cell_type": "markdown",
   "metadata": {},
   "source": [
    "### i don't know why mmse is large although the line looks good"
   ]
  }
 ],
 "metadata": {
  "kernelspec": {
   "display_name": "Python 3",
   "language": "python",
   "name": "python3"
  },
  "language_info": {
   "codemirror_mode": {
    "name": "ipython",
    "version": 3
   },
   "file_extension": ".py",
   "mimetype": "text/x-python",
   "name": "python",
   "nbconvert_exporter": "python",
   "pygments_lexer": "ipython3",
   "version": "3.7.4"
  }
 },
 "nbformat": 4,
 "nbformat_minor": 2
}
